{
 "cells": [
  {
   "cell_type": "code",
   "execution_count": 74,
   "metadata": {},
   "outputs": [],
   "source": [
    "import pandas as pd\n",
    "import numpy as np"
   ]
  },
  {
   "cell_type": "code",
   "execution_count": 75,
   "metadata": {},
   "outputs": [
    {
     "ename": "FileNotFoundError",
     "evalue": "[Errno 2] No such file or directory: 'samples.csv'",
     "output_type": "error",
     "traceback": [
      "\u001b[0;31m---------------------------------------------------------------------------\u001b[0m",
      "\u001b[0;31mFileNotFoundError\u001b[0m                         Traceback (most recent call last)",
      "\u001b[0;32m<ipython-input-75-01801ddeebe2>\u001b[0m in \u001b[0;36m<module>\u001b[0;34m\u001b[0m\n\u001b[0;32m----> 1\u001b[0;31m \u001b[0mdf\u001b[0m \u001b[0;34m=\u001b[0m \u001b[0mpd\u001b[0m\u001b[0;34m.\u001b[0m\u001b[0mread_csv\u001b[0m\u001b[0;34m(\u001b[0m\u001b[0;34m'samples.csv'\u001b[0m\u001b[0;34m)\u001b[0m\u001b[0;34m\u001b[0m\u001b[0;34m\u001b[0m\u001b[0m\n\u001b[0m\u001b[1;32m      2\u001b[0m \u001b[0mprint\u001b[0m\u001b[0;34m(\u001b[0m\u001b[0mdf\u001b[0m\u001b[0;34m)\u001b[0m\u001b[0;34m\u001b[0m\u001b[0;34m\u001b[0m\u001b[0m\n",
      "\u001b[0;32m/Library/Frameworks/Python.framework/Versions/3.9/lib/python3.9/site-packages/pandas/util/_decorators.py\u001b[0m in \u001b[0;36mwrapper\u001b[0;34m(*args, **kwargs)\u001b[0m\n\u001b[1;32m    309\u001b[0m                     \u001b[0mstacklevel\u001b[0m\u001b[0;34m=\u001b[0m\u001b[0mstacklevel\u001b[0m\u001b[0;34m,\u001b[0m\u001b[0;34m\u001b[0m\u001b[0;34m\u001b[0m\u001b[0m\n\u001b[1;32m    310\u001b[0m                 )\n\u001b[0;32m--> 311\u001b[0;31m             \u001b[0;32mreturn\u001b[0m \u001b[0mfunc\u001b[0m\u001b[0;34m(\u001b[0m\u001b[0;34m*\u001b[0m\u001b[0margs\u001b[0m\u001b[0;34m,\u001b[0m \u001b[0;34m**\u001b[0m\u001b[0mkwargs\u001b[0m\u001b[0;34m)\u001b[0m\u001b[0;34m\u001b[0m\u001b[0;34m\u001b[0m\u001b[0m\n\u001b[0m\u001b[1;32m    312\u001b[0m \u001b[0;34m\u001b[0m\u001b[0m\n\u001b[1;32m    313\u001b[0m         \u001b[0;32mreturn\u001b[0m \u001b[0mwrapper\u001b[0m\u001b[0;34m\u001b[0m\u001b[0;34m\u001b[0m\u001b[0m\n",
      "\u001b[0;32m/Library/Frameworks/Python.framework/Versions/3.9/lib/python3.9/site-packages/pandas/io/parsers/readers.py\u001b[0m in \u001b[0;36mread_csv\u001b[0;34m(filepath_or_buffer, sep, delimiter, header, names, index_col, usecols, squeeze, prefix, mangle_dupe_cols, dtype, engine, converters, true_values, false_values, skipinitialspace, skiprows, skipfooter, nrows, na_values, keep_default_na, na_filter, verbose, skip_blank_lines, parse_dates, infer_datetime_format, keep_date_col, date_parser, dayfirst, cache_dates, iterator, chunksize, compression, thousands, decimal, lineterminator, quotechar, quoting, doublequote, escapechar, comment, encoding, encoding_errors, dialect, error_bad_lines, warn_bad_lines, on_bad_lines, delim_whitespace, low_memory, memory_map, float_precision, storage_options)\u001b[0m\n\u001b[1;32m    584\u001b[0m     \u001b[0mkwds\u001b[0m\u001b[0;34m.\u001b[0m\u001b[0mupdate\u001b[0m\u001b[0;34m(\u001b[0m\u001b[0mkwds_defaults\u001b[0m\u001b[0;34m)\u001b[0m\u001b[0;34m\u001b[0m\u001b[0;34m\u001b[0m\u001b[0m\n\u001b[1;32m    585\u001b[0m \u001b[0;34m\u001b[0m\u001b[0m\n\u001b[0;32m--> 586\u001b[0;31m     \u001b[0;32mreturn\u001b[0m \u001b[0m_read\u001b[0m\u001b[0;34m(\u001b[0m\u001b[0mfilepath_or_buffer\u001b[0m\u001b[0;34m,\u001b[0m \u001b[0mkwds\u001b[0m\u001b[0;34m)\u001b[0m\u001b[0;34m\u001b[0m\u001b[0;34m\u001b[0m\u001b[0m\n\u001b[0m\u001b[1;32m    587\u001b[0m \u001b[0;34m\u001b[0m\u001b[0m\n\u001b[1;32m    588\u001b[0m \u001b[0;34m\u001b[0m\u001b[0m\n",
      "\u001b[0;32m/Library/Frameworks/Python.framework/Versions/3.9/lib/python3.9/site-packages/pandas/io/parsers/readers.py\u001b[0m in \u001b[0;36m_read\u001b[0;34m(filepath_or_buffer, kwds)\u001b[0m\n\u001b[1;32m    480\u001b[0m \u001b[0;34m\u001b[0m\u001b[0m\n\u001b[1;32m    481\u001b[0m     \u001b[0;31m# Create the parser.\u001b[0m\u001b[0;34m\u001b[0m\u001b[0;34m\u001b[0m\u001b[0;34m\u001b[0m\u001b[0m\n\u001b[0;32m--> 482\u001b[0;31m     \u001b[0mparser\u001b[0m \u001b[0;34m=\u001b[0m \u001b[0mTextFileReader\u001b[0m\u001b[0;34m(\u001b[0m\u001b[0mfilepath_or_buffer\u001b[0m\u001b[0;34m,\u001b[0m \u001b[0;34m**\u001b[0m\u001b[0mkwds\u001b[0m\u001b[0;34m)\u001b[0m\u001b[0;34m\u001b[0m\u001b[0;34m\u001b[0m\u001b[0m\n\u001b[0m\u001b[1;32m    483\u001b[0m \u001b[0;34m\u001b[0m\u001b[0m\n\u001b[1;32m    484\u001b[0m     \u001b[0;32mif\u001b[0m \u001b[0mchunksize\u001b[0m \u001b[0;32mor\u001b[0m \u001b[0miterator\u001b[0m\u001b[0;34m:\u001b[0m\u001b[0;34m\u001b[0m\u001b[0;34m\u001b[0m\u001b[0m\n",
      "\u001b[0;32m/Library/Frameworks/Python.framework/Versions/3.9/lib/python3.9/site-packages/pandas/io/parsers/readers.py\u001b[0m in \u001b[0;36m__init__\u001b[0;34m(self, f, engine, **kwds)\u001b[0m\n\u001b[1;32m    809\u001b[0m             \u001b[0mself\u001b[0m\u001b[0;34m.\u001b[0m\u001b[0moptions\u001b[0m\u001b[0;34m[\u001b[0m\u001b[0;34m\"has_index_names\"\u001b[0m\u001b[0;34m]\u001b[0m \u001b[0;34m=\u001b[0m \u001b[0mkwds\u001b[0m\u001b[0;34m[\u001b[0m\u001b[0;34m\"has_index_names\"\u001b[0m\u001b[0;34m]\u001b[0m\u001b[0;34m\u001b[0m\u001b[0;34m\u001b[0m\u001b[0m\n\u001b[1;32m    810\u001b[0m \u001b[0;34m\u001b[0m\u001b[0m\n\u001b[0;32m--> 811\u001b[0;31m         \u001b[0mself\u001b[0m\u001b[0;34m.\u001b[0m\u001b[0m_engine\u001b[0m \u001b[0;34m=\u001b[0m \u001b[0mself\u001b[0m\u001b[0;34m.\u001b[0m\u001b[0m_make_engine\u001b[0m\u001b[0;34m(\u001b[0m\u001b[0mself\u001b[0m\u001b[0;34m.\u001b[0m\u001b[0mengine\u001b[0m\u001b[0;34m)\u001b[0m\u001b[0;34m\u001b[0m\u001b[0;34m\u001b[0m\u001b[0m\n\u001b[0m\u001b[1;32m    812\u001b[0m \u001b[0;34m\u001b[0m\u001b[0m\n\u001b[1;32m    813\u001b[0m     \u001b[0;32mdef\u001b[0m \u001b[0mclose\u001b[0m\u001b[0;34m(\u001b[0m\u001b[0mself\u001b[0m\u001b[0;34m)\u001b[0m\u001b[0;34m:\u001b[0m\u001b[0;34m\u001b[0m\u001b[0;34m\u001b[0m\u001b[0m\n",
      "\u001b[0;32m/Library/Frameworks/Python.framework/Versions/3.9/lib/python3.9/site-packages/pandas/io/parsers/readers.py\u001b[0m in \u001b[0;36m_make_engine\u001b[0;34m(self, engine)\u001b[0m\n\u001b[1;32m   1038\u001b[0m             )\n\u001b[1;32m   1039\u001b[0m         \u001b[0;31m# error: Too many arguments for \"ParserBase\"\u001b[0m\u001b[0;34m\u001b[0m\u001b[0;34m\u001b[0m\u001b[0;34m\u001b[0m\u001b[0m\n\u001b[0;32m-> 1040\u001b[0;31m         \u001b[0;32mreturn\u001b[0m \u001b[0mmapping\u001b[0m\u001b[0;34m[\u001b[0m\u001b[0mengine\u001b[0m\u001b[0;34m]\u001b[0m\u001b[0;34m(\u001b[0m\u001b[0mself\u001b[0m\u001b[0;34m.\u001b[0m\u001b[0mf\u001b[0m\u001b[0;34m,\u001b[0m \u001b[0;34m**\u001b[0m\u001b[0mself\u001b[0m\u001b[0;34m.\u001b[0m\u001b[0moptions\u001b[0m\u001b[0;34m)\u001b[0m  \u001b[0;31m# type: ignore[call-arg]\u001b[0m\u001b[0;34m\u001b[0m\u001b[0;34m\u001b[0m\u001b[0m\n\u001b[0m\u001b[1;32m   1041\u001b[0m \u001b[0;34m\u001b[0m\u001b[0m\n\u001b[1;32m   1042\u001b[0m     \u001b[0;32mdef\u001b[0m \u001b[0m_failover_to_python\u001b[0m\u001b[0;34m(\u001b[0m\u001b[0mself\u001b[0m\u001b[0;34m)\u001b[0m\u001b[0;34m:\u001b[0m\u001b[0;34m\u001b[0m\u001b[0;34m\u001b[0m\u001b[0m\n",
      "\u001b[0;32m/Library/Frameworks/Python.framework/Versions/3.9/lib/python3.9/site-packages/pandas/io/parsers/c_parser_wrapper.py\u001b[0m in \u001b[0;36m__init__\u001b[0;34m(self, src, **kwds)\u001b[0m\n\u001b[1;32m     49\u001b[0m \u001b[0;34m\u001b[0m\u001b[0m\n\u001b[1;32m     50\u001b[0m         \u001b[0;31m# open handles\u001b[0m\u001b[0;34m\u001b[0m\u001b[0;34m\u001b[0m\u001b[0;34m\u001b[0m\u001b[0m\n\u001b[0;32m---> 51\u001b[0;31m         \u001b[0mself\u001b[0m\u001b[0;34m.\u001b[0m\u001b[0m_open_handles\u001b[0m\u001b[0;34m(\u001b[0m\u001b[0msrc\u001b[0m\u001b[0;34m,\u001b[0m \u001b[0mkwds\u001b[0m\u001b[0;34m)\u001b[0m\u001b[0;34m\u001b[0m\u001b[0;34m\u001b[0m\u001b[0m\n\u001b[0m\u001b[1;32m     52\u001b[0m         \u001b[0;32massert\u001b[0m \u001b[0mself\u001b[0m\u001b[0;34m.\u001b[0m\u001b[0mhandles\u001b[0m \u001b[0;32mis\u001b[0m \u001b[0;32mnot\u001b[0m \u001b[0;32mNone\u001b[0m\u001b[0;34m\u001b[0m\u001b[0;34m\u001b[0m\u001b[0m\n\u001b[1;32m     53\u001b[0m \u001b[0;34m\u001b[0m\u001b[0m\n",
      "\u001b[0;32m/Library/Frameworks/Python.framework/Versions/3.9/lib/python3.9/site-packages/pandas/io/parsers/base_parser.py\u001b[0m in \u001b[0;36m_open_handles\u001b[0;34m(self, src, kwds)\u001b[0m\n\u001b[1;32m    220\u001b[0m         \u001b[0mLet\u001b[0m \u001b[0mthe\u001b[0m \u001b[0mreaders\u001b[0m \u001b[0mopen\u001b[0m \u001b[0mIOHandles\u001b[0m \u001b[0mafter\u001b[0m \u001b[0mthey\u001b[0m \u001b[0mare\u001b[0m \u001b[0mdone\u001b[0m \u001b[0;32mwith\u001b[0m \u001b[0mtheir\u001b[0m \u001b[0mpotential\u001b[0m \u001b[0mraises\u001b[0m\u001b[0;34m.\u001b[0m\u001b[0;34m\u001b[0m\u001b[0;34m\u001b[0m\u001b[0m\n\u001b[1;32m    221\u001b[0m         \"\"\"\n\u001b[0;32m--> 222\u001b[0;31m         self.handles = get_handle(\n\u001b[0m\u001b[1;32m    223\u001b[0m             \u001b[0msrc\u001b[0m\u001b[0;34m,\u001b[0m\u001b[0;34m\u001b[0m\u001b[0;34m\u001b[0m\u001b[0m\n\u001b[1;32m    224\u001b[0m             \u001b[0;34m\"r\"\u001b[0m\u001b[0;34m,\u001b[0m\u001b[0;34m\u001b[0m\u001b[0;34m\u001b[0m\u001b[0m\n",
      "\u001b[0;32m/Library/Frameworks/Python.framework/Versions/3.9/lib/python3.9/site-packages/pandas/io/common.py\u001b[0m in \u001b[0;36mget_handle\u001b[0;34m(path_or_buf, mode, encoding, compression, memory_map, is_text, errors, storage_options)\u001b[0m\n\u001b[1;32m    700\u001b[0m         \u001b[0;32mif\u001b[0m \u001b[0mioargs\u001b[0m\u001b[0;34m.\u001b[0m\u001b[0mencoding\u001b[0m \u001b[0;32mand\u001b[0m \u001b[0;34m\"b\"\u001b[0m \u001b[0;32mnot\u001b[0m \u001b[0;32min\u001b[0m \u001b[0mioargs\u001b[0m\u001b[0;34m.\u001b[0m\u001b[0mmode\u001b[0m\u001b[0;34m:\u001b[0m\u001b[0;34m\u001b[0m\u001b[0;34m\u001b[0m\u001b[0m\n\u001b[1;32m    701\u001b[0m             \u001b[0;31m# Encoding\u001b[0m\u001b[0;34m\u001b[0m\u001b[0;34m\u001b[0m\u001b[0;34m\u001b[0m\u001b[0m\n\u001b[0;32m--> 702\u001b[0;31m             handle = open(\n\u001b[0m\u001b[1;32m    703\u001b[0m                 \u001b[0mhandle\u001b[0m\u001b[0;34m,\u001b[0m\u001b[0;34m\u001b[0m\u001b[0;34m\u001b[0m\u001b[0m\n\u001b[1;32m    704\u001b[0m                 \u001b[0mioargs\u001b[0m\u001b[0;34m.\u001b[0m\u001b[0mmode\u001b[0m\u001b[0;34m,\u001b[0m\u001b[0;34m\u001b[0m\u001b[0;34m\u001b[0m\u001b[0m\n",
      "\u001b[0;31mFileNotFoundError\u001b[0m: [Errno 2] No such file or directory: 'samples.csv'"
     ]
    }
   ],
   "source": [
    "df = pd.read_csv('samples.csv')\n",
    "print(df)"
   ]
  },
  {
   "cell_type": "code",
   "execution_count": null,
   "metadata": {},
   "outputs": [
    {
     "name": "stdout",
     "output_type": "stream",
     "text": [
      "         form_id poultry_establishment_id collection_date   poultry_type  \\\n",
      "48     102483104                   P22000      2020-06-29   Whole Turkey   \n",
      "49     102496294                   P20935      2020-06-29   Whole Turkey   \n",
      "56     102482559                     P244      2020-06-29   Whole Turkey   \n",
      "58     102497531                     P511      2020-06-29   Whole Turkey   \n",
      "60     102499085                     P963      2020-06-29   Whole Turkey   \n",
      "...          ...                      ...             ...            ...   \n",
      "33747  102795848                    P4398      2021-08-31  Ground Turkey   \n",
      "33755  102795533                   P46870      2021-08-31  Ground Turkey   \n",
      "33759  102792493                   P20935      2021-08-31   Whole Turkey   \n",
      "33792  102793151                   P22080      2021-08-31  Ground Turkey   \n",
      "33803  102789991                     P963      2021-08-31  Ground Turkey   \n",
      "\n",
      "      result serotype high_risk antimicrobial_resistance  \\\n",
      "48     False      NaN       NaN                      NaN   \n",
      "49     False      NaN       NaN                      NaN   \n",
      "56     False      NaN       NaN                      NaN   \n",
      "58     False      NaN       NaN                      NaN   \n",
      "60     False      NaN       NaN                      NaN   \n",
      "...      ...      ...       ...                      ...   \n",
      "33747  False      NaN       NaN                      NaN   \n",
      "33755  False      NaN       NaN                      NaN   \n",
      "33759  False      NaN       NaN                      NaN   \n",
      "33792  False      NaN       NaN                      NaN   \n",
      "33803  False      NaN       NaN                      NaN   \n",
      "\n",
      "      antimicrobial_resistance_category  \n",
      "48                                  NaN  \n",
      "49                                  NaN  \n",
      "56                                  NaN  \n",
      "58                                  NaN  \n",
      "60                                  NaN  \n",
      "...                                 ...  \n",
      "33747                   Not Categorized  \n",
      "33755                   Not Categorized  \n",
      "33759                   Not Categorized  \n",
      "33792                   Not Categorized  \n",
      "33803                   Not Categorized  \n",
      "\n",
      "[3659 rows x 9 columns]\n"
     ]
    }
   ],
   "source": [
    "turkey_df = df[df[\"poultry_type\"].str.contains(\"Turkey\") == True]\n",
    "print(turkey_df)"
   ]
  },
  {
   "cell_type": "code",
   "execution_count": null,
   "metadata": {},
   "outputs": [
    {
     "data": {
      "text/html": [
       "<div>\n",
       "<style scoped>\n",
       "    .dataframe tbody tr th:only-of-type {\n",
       "        vertical-align: middle;\n",
       "    }\n",
       "\n",
       "    .dataframe tbody tr th {\n",
       "        vertical-align: top;\n",
       "    }\n",
       "\n",
       "    .dataframe thead th {\n",
       "        text-align: right;\n",
       "    }\n",
       "</style>\n",
       "<table border=\"1\" class=\"dataframe\">\n",
       "  <thead>\n",
       "    <tr style=\"text-align: right;\">\n",
       "      <th></th>\n",
       "      <th>index</th>\n",
       "      <th>form_id</th>\n",
       "      <th>poultry_establishment_id</th>\n",
       "      <th>collection_date</th>\n",
       "      <th>poultry_type</th>\n",
       "      <th>result</th>\n",
       "      <th>serotype</th>\n",
       "      <th>high_risk</th>\n",
       "      <th>antimicrobial_resistance</th>\n",
       "      <th>antimicrobial_resistance_category</th>\n",
       "    </tr>\n",
       "  </thead>\n",
       "  <tbody>\n",
       "    <tr>\n",
       "      <th>0</th>\n",
       "      <td>0</td>\n",
       "      <td>102476625</td>\n",
       "      <td>P519</td>\n",
       "      <td>2020-06-28</td>\n",
       "      <td>Chicken Parts</td>\n",
       "      <td>False</td>\n",
       "      <td>NaN</td>\n",
       "      <td>NaN</td>\n",
       "      <td>NaN</td>\n",
       "      <td>NaN</td>\n",
       "    </tr>\n",
       "    <tr>\n",
       "      <th>1</th>\n",
       "      <td>1</td>\n",
       "      <td>102476177</td>\n",
       "      <td>P1307</td>\n",
       "      <td>2020-06-28</td>\n",
       "      <td>Chicken Parts</td>\n",
       "      <td>False</td>\n",
       "      <td>NaN</td>\n",
       "      <td>NaN</td>\n",
       "      <td>NaN</td>\n",
       "      <td>NaN</td>\n",
       "    </tr>\n",
       "    <tr>\n",
       "      <th>2</th>\n",
       "      <td>2</td>\n",
       "      <td>102495401</td>\n",
       "      <td>P165H</td>\n",
       "      <td>2020-06-28</td>\n",
       "      <td>Whole Chicken</td>\n",
       "      <td>False</td>\n",
       "      <td>NaN</td>\n",
       "      <td>NaN</td>\n",
       "      <td>NaN</td>\n",
       "      <td>NaN</td>\n",
       "    </tr>\n",
       "    <tr>\n",
       "      <th>3</th>\n",
       "      <td>3</td>\n",
       "      <td>102490286</td>\n",
       "      <td>P727</td>\n",
       "      <td>2020-06-28</td>\n",
       "      <td>Chicken Parts</td>\n",
       "      <td>False</td>\n",
       "      <td>NaN</td>\n",
       "      <td>NaN</td>\n",
       "      <td>NaN</td>\n",
       "      <td>NaN</td>\n",
       "    </tr>\n",
       "    <tr>\n",
       "      <th>4</th>\n",
       "      <td>4</td>\n",
       "      <td>102476646</td>\n",
       "      <td>P19865</td>\n",
       "      <td>2020-06-28</td>\n",
       "      <td>Whole Chicken</td>\n",
       "      <td>False</td>\n",
       "      <td>NaN</td>\n",
       "      <td>NaN</td>\n",
       "      <td>NaN</td>\n",
       "      <td>NaN</td>\n",
       "    </tr>\n",
       "    <tr>\n",
       "      <th>...</th>\n",
       "      <td>...</td>\n",
       "      <td>...</td>\n",
       "      <td>...</td>\n",
       "      <td>...</td>\n",
       "      <td>...</td>\n",
       "      <td>...</td>\n",
       "      <td>...</td>\n",
       "      <td>...</td>\n",
       "      <td>...</td>\n",
       "      <td>...</td>\n",
       "    </tr>\n",
       "    <tr>\n",
       "      <th>30141</th>\n",
       "      <td>33799</td>\n",
       "      <td>102789175</td>\n",
       "      <td>P1009</td>\n",
       "      <td>2021-08-31</td>\n",
       "      <td>Whole Chicken</td>\n",
       "      <td>False</td>\n",
       "      <td>NaN</td>\n",
       "      <td>NaN</td>\n",
       "      <td>NaN</td>\n",
       "      <td>Not Categorized</td>\n",
       "    </tr>\n",
       "    <tr>\n",
       "      <th>30142</th>\n",
       "      <td>33800</td>\n",
       "      <td>102788295</td>\n",
       "      <td>P39</td>\n",
       "      <td>2021-08-31</td>\n",
       "      <td>Whole Chicken</td>\n",
       "      <td>False</td>\n",
       "      <td>NaN</td>\n",
       "      <td>NaN</td>\n",
       "      <td>NaN</td>\n",
       "      <td>Not Categorized</td>\n",
       "    </tr>\n",
       "    <tr>\n",
       "      <th>30143</th>\n",
       "      <td>33801</td>\n",
       "      <td>102792798</td>\n",
       "      <td>P33861</td>\n",
       "      <td>2021-08-31</td>\n",
       "      <td>Chicken Parts</td>\n",
       "      <td>False</td>\n",
       "      <td>NaN</td>\n",
       "      <td>NaN</td>\n",
       "      <td>NaN</td>\n",
       "      <td>Not Categorized</td>\n",
       "    </tr>\n",
       "    <tr>\n",
       "      <th>30144</th>\n",
       "      <td>33802</td>\n",
       "      <td>102794935</td>\n",
       "      <td>P5787</td>\n",
       "      <td>2021-08-31</td>\n",
       "      <td>Whole Chicken</td>\n",
       "      <td>False</td>\n",
       "      <td>NaN</td>\n",
       "      <td>NaN</td>\n",
       "      <td>NaN</td>\n",
       "      <td>Not Categorized</td>\n",
       "    </tr>\n",
       "    <tr>\n",
       "      <th>30145</th>\n",
       "      <td>33804</td>\n",
       "      <td>102792576</td>\n",
       "      <td>P44097</td>\n",
       "      <td>2021-08-31</td>\n",
       "      <td>Chicken Parts</td>\n",
       "      <td>False</td>\n",
       "      <td>NaN</td>\n",
       "      <td>NaN</td>\n",
       "      <td>NaN</td>\n",
       "      <td>Not Categorized</td>\n",
       "    </tr>\n",
       "  </tbody>\n",
       "</table>\n",
       "<p>30146 rows × 10 columns</p>\n",
       "</div>"
      ],
      "text/plain": [
       "       index    form_id poultry_establishment_id collection_date  \\\n",
       "0          0  102476625                     P519      2020-06-28   \n",
       "1          1  102476177                    P1307      2020-06-28   \n",
       "2          2  102495401                    P165H      2020-06-28   \n",
       "3          3  102490286                     P727      2020-06-28   \n",
       "4          4  102476646                   P19865      2020-06-28   \n",
       "...      ...        ...                      ...             ...   \n",
       "30141  33799  102789175                    P1009      2021-08-31   \n",
       "30142  33800  102788295                      P39      2021-08-31   \n",
       "30143  33801  102792798                   P33861      2021-08-31   \n",
       "30144  33802  102794935                    P5787      2021-08-31   \n",
       "30145  33804  102792576                   P44097      2021-08-31   \n",
       "\n",
       "        poultry_type result serotype high_risk antimicrobial_resistance  \\\n",
       "0      Chicken Parts  False      NaN       NaN                      NaN   \n",
       "1      Chicken Parts  False      NaN       NaN                      NaN   \n",
       "2      Whole Chicken  False      NaN       NaN                      NaN   \n",
       "3      Chicken Parts  False      NaN       NaN                      NaN   \n",
       "4      Whole Chicken  False      NaN       NaN                      NaN   \n",
       "...              ...    ...      ...       ...                      ...   \n",
       "30141  Whole Chicken  False      NaN       NaN                      NaN   \n",
       "30142  Whole Chicken  False      NaN       NaN                      NaN   \n",
       "30143  Chicken Parts  False      NaN       NaN                      NaN   \n",
       "30144  Whole Chicken  False      NaN       NaN                      NaN   \n",
       "30145  Chicken Parts  False      NaN       NaN                      NaN   \n",
       "\n",
       "      antimicrobial_resistance_category  \n",
       "0                                   NaN  \n",
       "1                                   NaN  \n",
       "2                                   NaN  \n",
       "3                                   NaN  \n",
       "4                                   NaN  \n",
       "...                                 ...  \n",
       "30141                   Not Categorized  \n",
       "30142                   Not Categorized  \n",
       "30143                   Not Categorized  \n",
       "30144                   Not Categorized  \n",
       "30145                   Not Categorized  \n",
       "\n",
       "[30146 rows x 10 columns]"
      ]
     },
     "execution_count": 64,
     "metadata": {},
     "output_type": "execute_result"
    }
   ],
   "source": [
    "non_turkey_df = df[df[\"poultry_type\"].str.contains(\"Turkey\") == False]\n",
    "non_turkey_df.reset_index()"
   ]
  },
  {
   "cell_type": "code",
   "execution_count": null,
   "metadata": {},
   "outputs": [
    {
     "name": "stdout",
     "output_type": "stream",
     "text": [
      "         form_id poultry_establishment_id collection_date   poultry_type  \\\n",
      "0      102476625                     P519      2020-06-28  Chicken Parts   \n",
      "1      102476177                    P1307      2020-06-28  Chicken Parts   \n",
      "2      102495401                    P165H      2020-06-28  Whole Chicken   \n",
      "3      102490286                     P727      2020-06-28  Chicken Parts   \n",
      "4      102476646                   P19865      2020-06-28  Whole Chicken   \n",
      "...          ...                      ...             ...            ...   \n",
      "33799  102789175                    P1009      2021-08-31  Whole Chicken   \n",
      "33800  102788295                      P39      2021-08-31  Whole Chicken   \n",
      "33801  102792798                   P33861      2021-08-31  Chicken Parts   \n",
      "33802  102794935                    P5787      2021-08-31  Whole Chicken   \n",
      "33804  102792576                   P44097      2021-08-31  Chicken Parts   \n",
      "\n",
      "      result serotype high_risk antimicrobial_resistance  \\\n",
      "0      False      NaN       NaN                      NaN   \n",
      "1      False      NaN       NaN                      NaN   \n",
      "2      False      NaN       NaN                      NaN   \n",
      "3      False      NaN       NaN                      NaN   \n",
      "4      False      NaN       NaN                      NaN   \n",
      "...      ...      ...       ...                      ...   \n",
      "33799  False      NaN       NaN                      NaN   \n",
      "33800  False      NaN       NaN                      NaN   \n",
      "33801  False      NaN       NaN                      NaN   \n",
      "33802  False      NaN       NaN                      NaN   \n",
      "33804  False      NaN       NaN                      NaN   \n",
      "\n",
      "      antimicrobial_resistance_category  \n",
      "0                                   NaN  \n",
      "1                                   NaN  \n",
      "2                                   NaN  \n",
      "3                                   NaN  \n",
      "4                                   NaN  \n",
      "...                                 ...  \n",
      "33799                   Not Categorized  \n",
      "33800                   Not Categorized  \n",
      "33801                   Not Categorized  \n",
      "33802                   Not Categorized  \n",
      "33804                   Not Categorized  \n",
      "\n",
      "[30146 rows x 9 columns]\n"
     ]
    }
   ],
   "source": [
    "print(non_turkey_df)"
   ]
  },
  {
   "cell_type": "code",
   "execution_count": null,
   "metadata": {},
   "outputs": [
    {
     "data": {
      "text/plain": [
       "Index(['form_id', 'poultry_establishment_id', 'collection_date',\n",
       "       'poultry_type', 'result', 'serotype', 'high_risk',\n",
       "       'antimicrobial_resistance', 'antimicrobial_resistance_category'],\n",
       "      dtype='object')"
      ]
     },
     "execution_count": 66,
     "metadata": {},
     "output_type": "execute_result"
    }
   ],
   "source": [
    "non_turkey_df.columns"
   ]
  },
  {
   "cell_type": "code",
   "execution_count": null,
   "metadata": {},
   "outputs": [
    {
     "data": {
      "text/plain": [
       "array([nan, 'Schwarzengrund', 'Kentucky', 'Enteritidis', 'Infantis',\n",
       "       'Typhimurium', 'Heidelberg', 'Senftenberg', 'Ohio', 'Berta',\n",
       "       'Muenchen', 'Newport', 'Johannesburg', 'I4,[5],12:i:-',\n",
       "       '8,20:-:z6', 'Agona', 'Montevideo', 'Hadar', 'I4:b:-', 'Rubislaw',\n",
       "       'Mbandaka', 'Braenderup', 'Blockley', 'Thompson', 'Litchfield',\n",
       "       'RoughO:r:1,5', 'Minnesota', 'Alachua', 'IIIa48:g,z51:-',\n",
       "       'Reading', 'Anatum', 'Worthington', 'Manhattan', 'Eko', 'Dublin',\n",
       "       'Cerro', 'London', 'Soerenga', 'RoughO:i:1,2', 'Barranquilla',\n",
       "       '8,20:i:-', 'Tennessee', 'Uganda', 'Oranienburg', '-:r:1,5',\n",
       "       'Saintpaul', '8:i:-', 'Taksony'], dtype=object)"
      ]
     },
     "execution_count": 67,
     "metadata": {},
     "output_type": "execute_result"
    }
   ],
   "source": [
    "# Remove erroneous values in serotype\n",
    "non_turkey_df.serotype.unique()"
   ]
  },
  {
   "cell_type": "code",
   "execution_count": null,
   "metadata": {},
   "outputs": [],
   "source": [
    "# List to Remove\n",
    "errors = ['I4,[5],12:i:-', '8,20:-:z6', 'I4,[5],12:i:-', '8,20:-:z6',\n",
    "          'I4:b:-', 'RoughO:r:1,5','IIIa48:g,z51:-', 'RoughO:i:1,2', \n",
    "          '8,20:i:-', '-:r:1,5', '8:i:-']\n",
    "non_turkey_df = non_turkey_df[~non_turkey_df['serotype'].isin(errors)]"
   ]
  },
  {
   "cell_type": "code",
   "execution_count": null,
   "metadata": {},
   "outputs": [
    {
     "data": {
      "text/plain": [
       "array([nan, 'Schwarzengrund', 'Kentucky', 'Enteritidis', 'Infantis',\n",
       "       'Typhimurium', 'Heidelberg', 'Senftenberg', 'Ohio', 'Berta',\n",
       "       'Muenchen', 'Newport', 'Johannesburg', 'Agona', 'Montevideo',\n",
       "       'Hadar', 'Rubislaw', 'Mbandaka', 'Braenderup', 'Blockley',\n",
       "       'Thompson', 'Litchfield', 'Minnesota', 'Alachua', 'Reading',\n",
       "       'Anatum', 'Worthington', 'Manhattan', 'Eko', 'Dublin', 'Cerro',\n",
       "       'London', 'Soerenga', 'Barranquilla', 'Tennessee', 'Uganda',\n",
       "       'Oranienburg', 'Saintpaul', 'Taksony'], dtype=object)"
      ]
     },
     "execution_count": 69,
     "metadata": {},
     "output_type": "execute_result"
    }
   ],
   "source": [
    "# Check that errors in serotype are removed\n",
    "non_turkey_df.serotype.unique()"
   ]
  },
  {
   "cell_type": "code",
   "execution_count": null,
   "metadata": {},
   "outputs": [],
   "source": [
    "# Remove antimicrobial_resistance column; irrelevant to project scope\n",
    "non_turkey_df.drop('antimicrobial_resistance', inplace=True, axis=1)\n"
   ]
  },
  {
   "cell_type": "code",
   "execution_count": null,
   "metadata": {},
   "outputs": [],
   "source": [
    "# Export to csv\n",
    "non_turkey_df.to_csv(r'samples.csv', index = False)"
   ]
  },
  {
   "cell_type": "code",
   "execution_count": null,
   "metadata": {},
   "outputs": [],
   "source": []
  }
 ],
 "metadata": {
  "interpreter": {
   "hash": "aee8b7b246df8f9039afb4144a1f6fd8d2ca17a180786b69acc140d282b71a49"
  },
  "kernelspec": {
   "display_name": "Python 3.9.4 64-bit",
   "language": "python",
   "name": "python3"
  },
  "language_info": {
   "codemirror_mode": {
    "name": "ipython",
    "version": 3
   },
   "file_extension": ".py",
   "mimetype": "text/x-python",
   "name": "python",
   "nbconvert_exporter": "python",
   "pygments_lexer": "ipython3",
   "version": "3.9.4"
  },
  "orig_nbformat": 4
 },
 "nbformat": 4,
 "nbformat_minor": 2
}
